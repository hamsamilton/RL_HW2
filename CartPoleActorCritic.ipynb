{
  "nbformat": 4,
  "nbformat_minor": 0,
  "metadata": {
    "colab": {
      "name": "CartPoleActorCritic.ipynb",
      "provenance": []
    },
    "kernelspec": {
      "name": "python3",
      "display_name": "Python 3"
    },
    "accelerator": "GPU"
  },
  "cells": [
    {
      "cell_type": "code",
      "metadata": {
        "id": "pV_fIC72A7iz"
      },
      "source": [
        "# SETUP \n",
        "\n",
        "import os\n",
        "from tensorflow.keras.models import Model\n",
        "from tensorflow.keras.layers import Input, Dense, Lambda, Add, Conv2D, Flatten\n",
        "from tensorflow.keras.optimizers import Adam, RMSprop\n",
        "from tensorflow.keras import backend as K\n",
        "os.environ['CUDA_VISIBLE_DEVICES'] = '0'\n",
        "import random\n",
        "import gym\n",
        "import pylab\n",
        "import numpy as np\n",
        "import cv2\n",
        "import matplotlib.pyplot as plt\n",
        "env_name = 'CartPole-v0'\n"
      ],
      "execution_count": 39,
      "outputs": []
    },
    {
      "cell_type": "code",
      "metadata": {
        "id": "P3SU-VtrA9EP"
      },
      "source": [
        "\n",
        "def ActorCritic(input_shape, action_space, lr):\n",
        "    X_input = Input(input_shape)\n",
        "    X = Flatten(input_shape=input_shape)(X_input)\n",
        "\n",
        "    X = Dense(200, activation=\"relu\")(X)\n",
        "    X = Dense(20, activation=\"relu\")(X)\n",
        "    action = Dense(action_space, activation=\"softmax\")(X)\n",
        "    value = Dense(1)(X)\n",
        "\n",
        "    Actor = Model(inputs = X_input, outputs = action)\n",
        "    Critic = Model(inputs = X_input, outputs = value)\n",
        "    Actor.compile(loss='categorical_crossentropy', optimizer=Adam(lr=lr))\n",
        "\n",
        "  \n",
        "    Critic.compile(loss='mse', optimizer=RMSprop(lr=lr))\n",
        "\n",
        "    return Actor, Critic"
      ],
      "execution_count": 38,
      "outputs": []
    },
    {
      "cell_type": "code",
      "metadata": {
        "id": "EGzYtr_4eOzG"
      },
      "source": [
        "\n",
        "\n",
        "class CartPoleActorCritic:\n",
        "    def __init__(self, env_name):\n",
        "        #Set params\n",
        "        self.env_name = env_name       \n",
        "        self.env = gym.make(env_name)\n",
        "        self.action_size = 2\n",
        "        self.EPISODES = 1000\n",
        "        self.lr = 0.0001\n",
        "        self.REM_STEP = 4\n",
        "        self.gamma = 0.95 \n",
        "        self.states, self.actions, self.rewards = [], [], []\n",
        "        self.scores, self.episodes, self.average  = [], [], []\n",
        "        self.state_size = (4,4)\n",
        "        self.image_memory = np.zeros(self.state_size)\n",
        "        self.rewardsforplot = []\n",
        "        self.avgrewards = []\n",
        "\n",
        "        # Initiate models\n",
        "        self.Actor, self.Critic = ActorCritic(input_shape=self.state_size, \n",
        "                                              action_space = self.action_size, \n",
        "                                              lr=self.lr)\n",
        "    def store(self, state, action, reward):\n",
        "        '''Make a record of states, actions and rewards'''\n",
        "\n",
        "        self.states.append(state)\n",
        "        action_onehot = np.zeros([self.action_size])\n",
        "        action_onehot[action] = 1\n",
        "        self.actions.append(action_onehot)\n",
        "        self.rewards.append(reward)\n",
        "\n",
        "\n",
        "    def act(self, state):\n",
        "      ''' Make a decision based on the actor model'''\n",
        "      prediction = self.Actor.predict(state)[0]\n",
        "      action = np.random.choice(self.action_size, p=prediction)\n",
        "      return action\n",
        "\n",
        "    def discount_rewards(self, reward):\n",
        "        running_add = 0\n",
        "        discounted_r = np.zeros_like(reward)\n",
        "        for i in reversed(range(0,len(reward))):\n",
        "            if reward[i] != 0: \n",
        "                running_add = 0\n",
        "            running_add = running_add * self.gamma + reward[i]\n",
        "            discounted_r[i] = running_add\n",
        "\n",
        "            #Normalize the result\n",
        "            discounted_r -= np.mean(discounted_r)\n",
        "            discounted_r /= np.std(discounted_r + 1e-9) # divide by standard deviation with a small value to avoid /0\n",
        "\n",
        "        return discounted_r\n",
        "    def getavg(self, score, episode):\n",
        "      self.scores.append(score)\n",
        "      self.episodes.append(episode)\n",
        "      self.average.append(sum(self.scores[-50:]) / len(self.scores[-50:]))\n",
        "      return self.average[-1]\n",
        "\n",
        "                \n",
        "    def replay(self):\n",
        "      ''' Fit model and reset memory'''\n",
        "        # reshape for training\n",
        "      states = np.vstack(self.states)\n",
        "      actions = np.vstack(self.actions)\n",
        "\n",
        "        # Compute discounted rewards\n",
        "      discounted_r = self.discount_rewards(self.rewards)\n",
        "\n",
        "        # Get Critic network predictions\n",
        "      values = self.Critic.predict(states)[:, 0]\n",
        "\n",
        "        # Subtract baseline from rewards\n",
        "      advantages = discounted_r - values\n",
        "        # training nets\n",
        "      self.Actor.fit(states, actions, sample_weight=advantages, epochs=1, verbose=0)\n",
        "      self.Critic.fit(states, discounted_r, epochs=1, verbose=0)\n",
        "        # reset for next ep\n",
        "      self.states, self.actions, self.rewards = [], [], []\n",
        "\n",
        "    def Preprocess(self, frame):\n",
        "      self.image_memory = np.roll(self.image_memory, 1, axis = 0)\n",
        "      self.image_memory[0,:] = frame\n",
        "      return np.expand_dims(self.image_memory, axis=0)\n",
        "\n",
        "    def reset(self):\n",
        "      \"get next state for new ep\"\n",
        "      frame = self.env.reset()\n",
        "      state = self.Preprocess(frame)\n",
        "      return state\n",
        "\n",
        "    def step(self, action):\n",
        "      \"get next state with an episode and record details\"\n",
        "      next_state, reward, done, info = self.env.step(action)\n",
        "      next_state = self.Preprocess(next_state)\n",
        "      return next_state, reward, done, info\n",
        "    \n",
        "    def run(self):\n",
        "      \"Run model\"\n",
        "      for e in range(self.EPISODES):\n",
        "          state = self.reset()\n",
        "          done, score= False, 0\n",
        "          while not done:\n",
        "                #next action\n",
        "              action = self.act(state)\n",
        "              next_state, reward, done, _ = self.step(action) # Go to next state\n",
        "              # Memorize (state, action, reward) for training\n",
        "              self.store(state, action, reward)\n",
        "              # Update current state\n",
        "              state = next_state\n",
        "              score += reward\n",
        "              if done:\n",
        "                  average = self.getavg(score, e)\n",
        "                  self.avgrewards.append(average)\n",
        "                  self.rewardsforplot.append(score)\n",
        "                  self.replay()\n",
        "      self.env.close()\n",
        "\n",
        "env_name = 'CartPole-v0'\n",
        "go = CartPoleActorCritic(env_name)\n",
        "  "
      ],
      "execution_count": 50,
      "outputs": []
    },
    {
      "cell_type": "code",
      "metadata": {
        "id": "VtU5tkUCBBB7"
      },
      "source": [
        "# RUN MODEL\n",
        "go = CartPoleActorCritic(env_name)\n",
        "go.run()"
      ],
      "execution_count": 51,
      "outputs": []
    },
    {
      "cell_type": "code",
      "metadata": {
        "id": "L1AmJzj9VC0T",
        "outputId": "38cc889e-55f2-4a3a-bbca-b07949df49c5",
        "colab": {
          "base_uri": "https://localhost:8080/",
          "height": 282
        }
      },
      "source": [
        "\n",
        "plt.plot(go.avgrewards)"
      ],
      "execution_count": 52,
      "outputs": [
        {
          "output_type": "execute_result",
          "data": {
            "text/plain": [
              "[<matplotlib.lines.Line2D at 0x7f169e1bca20>]"
            ]
          },
          "metadata": {
            "tags": []
          },
          "execution_count": 52
        },
        {
          "output_type": "display_data",
          "data": {
            "image/png": "[encoded data removed]",
            "text/plain": [
              "<Figure size 432x288 with 1 Axes>"
            ]
          },
          "metadata": {
            "tags": [],
            "needs_background": "light"
          }
        }
      ]
    }
  ]
}